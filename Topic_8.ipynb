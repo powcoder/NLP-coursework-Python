{
 "cells": [
  {
   "cell_type": "markdown",
   "metadata": {},
   "source": [
    "# Topic 8: Portrayal of Characters in Novels"
   ]
  },
  {
   "cell_type": "markdown",
   "metadata": {},
   "source": [
    "## Preliminaries \n",
    "Run this cell. Note that this also loads spaCy."
   ]
  },
  {
   "cell_type": "code",
   "execution_count": null,
   "metadata": {},
   "outputs": [],
   "source": [
    "import sys\n",
    "sys.path.append(r'\\\\ad.susx.ac.uk\\ITS\\TeachingResources\\Departments\\Informatics\\LanguageEngineering\\resources')\n",
    "#sys.path.append(r'/Users/davidw/Documents/teach/NLE/resources')\n",
    "import re\n",
    "import pandas as pd\n",
    "import numpy as np\n",
    "import matplotlib.pyplot as plt\n",
    "from collections import defaultdict,Counter\n",
    "from itertools import zip_longest\n",
    "from IPython.display import display\n",
    "from random import seed\n",
    "import random\n",
    "import math\n",
    "from pylab import rcParams\n",
    "from operator import itemgetter, attrgetter, methodcaller\n",
    "import matplotlib.pyplot as plt\n",
    "from sklearn.decomposition import TruncatedSVD\n",
    "from sklearn.feature_extraction.text import TfidfVectorizer\n",
    "import seaborn as sns\n",
    "import csv\n",
    "from operator import itemgetter, attrgetter, methodcaller\n",
    "import matplotlib.pylab as pylab\n",
    "%matplotlib inline\n",
    "params = {'legend.fontsize': 'large',\n",
    "          'figure.figsize': (15, 5),\n",
    "         'axes.labelsize': 'large',\n",
    "         'axes.titlesize':'large',\n",
    "         'xtick.labelsize':'large',\n",
    "         'ytick.labelsize':'large'}\n",
    "pylab.rcParams.update(params)\n",
    "get_ipython().magic('matplotlib inline')\n",
    "import spacy\n",
    "from sussex_nltk.corpus_readers import AmazonReviewCorpusReader\n",
    "from nltk.corpus import gutenberg\n",
    "nlp = spacy.load('en')\n",
    "from GutenbergCorpus import GutenbergCorpusReader as gcr\n",
    "reader = gcr.GutenbergCorpusReader()                         ## Sussex constructor\n"
   ]
  },
  {
   "cell_type": "markdown",
   "metadata": {},
   "source": [
    "## Overview\n",
    "In this topic you will be using spaCy's named entity extractor and the gender classifier that you created in Topic 7 to characterise differences in the way that an author portrays male and female characters.\n",
    "\n",
    "We will look at how it is possible to capture apspects of the way in which characters are portrayed, in terms of features. Each character in a novel will be represented in terms of a **feature set**. For example, one option is that the features are the verbs that the character is the object of (giving a rough sense of what the character does).\n",
    "\n",
    "For each character, we will collect a set of features and represent the feature set associated with a character as a special kind of dictionary called a `Counter`. Each feature is used as a key and the counter maps that feature to a weight which could, for example, be a count indicating how many times that feature has been seen.\n",
    "\n",
    "Given that we have a way to guess the gender of some characters, we can aggregate feature sets across all characters of a given gender. Indeed, we can aggregate male and female feature sets across all novels written by a given author or set of authors.\n",
    "\n",
    "Once we have done this we will look at how to measure the similarity of the resulting (aggregated) feature sets.\n",
    "\n",
    "First, however, we look at how you can gain access to the texts of a substantial collection of novels."
   ]
  },
  {
   "cell_type": "markdown",
   "metadata": {},
   "source": [
    "### Gutenberg electronic text archive\n",
    "[Project Gutenberg electronic text archive](http://www.gutenberg.org/) contains around 75,000 free electronic books. We have made 14862 of the text available to you. \n",
    "\n",
    "\n",
    "To access these texts run the following cell.\n",
    "\n",
    "If you are working on your own machine you will need to do the following:\n",
    "- download and unzip the file `\\\\ad.susx.ac.uk\\ITS\\TeachingResources\\Departments\\Informatics\\LanguageEngineering\\resources.zip'`\n",
    "- update the directory in the following cell, changing the string\n",
    "`'\\\\ad.susx.ac.uk\\ITS\\TeachingResources\\Departments\\Informatics\\LanguageEngineering\\resources\\data\\gutenberg_eng'` to be the location of the directory within the resources folder that contains \"authors.p\" and \"cleaned_meta_gutenberg\""
   ]
  },
  {
   "cell_type": "code",
   "execution_count": null,
   "metadata": {},
   "outputs": [],
   "source": [
    "reader = gcr.GutenbergCorpusReader() \n",
    "\n",
    "# Get a pickled dictionary of the authors in our extended Gutenberg collection\n",
    "# Key = author name - string which is used to index and retrieve the works of the author\n",
    "# Value = The names of the files containing the works of that author\n",
    "authors = reader.get_authors()\n",
    "\n",
    "# Let's find out how many texts we have in total.\n",
    "\n",
    "tot = 0\n",
    "for author in authors:\n",
    "    tot += len(authors[author])\n",
    "\n",
    "print(\"The collection contains text written by {} different authors\".format(len(authors)))\n",
    "print(\"There are a total of {} texts in the collection\".format(tot))"
   ]
  },
  {
   "cell_type": "markdown",
   "metadata": {},
   "source": [
    "### Exercise\n",
    "Run the following cell to see a list of all of the authors with texts in the collection and the number of texts for each author."
   ]
  },
  {
   "cell_type": "code",
   "execution_count": null,
   "metadata": {},
   "outputs": [],
   "source": [
    "for author in authors:\n",
    "    print(\"{0}: {1}\".format(author,len(authors[author])))"
   ]
  },
  {
   "cell_type": "markdown",
   "metadata": {},
   "source": [
    "### Obtaining the text of a novel\n",
    "\n",
    "The Gutenberg Corpus Reader class provides a method, `get_authors_works`, that returns all of the works of a specified author.\n",
    "\n",
    "If you run\n",
    "```\n",
    "works = reader.get_authors_works(<AUTHOR NAME>)\n",
    "```\n",
    "`works` will be a list of dictionaries where each dictionary in the list is one of the works written by the specified author.\n",
    "- each dictionary in the list has three keys: \n",
    " - \"author\" that maps to the name of the author\n",
    " - \"title\" that maps to the title of the text\n",
    " - \"text\" that maps to the raw text of the text\n",
    " \n",
    "### Exericse\n",
    "\n",
    "- Choose one of the authors listed when you run the cell above.\n",
    "- Adapt the following cell to see the titles of the works available for your chosen author in our collection."
   ]
  },
  {
   "cell_type": "code",
   "execution_count": null,
   "metadata": {},
   "outputs": [],
   "source": [
    "works = reader.get_authors_works(<AUTHOR NAME>)  # replace <AUTHOR NAME> by a string that is the name of an author \n",
    "for work in works:\n",
    "    print(work[\"title\"])"
   ]
  },
  {
   "cell_type": "markdown",
   "metadata": {},
   "source": [
    "### Exercise\n",
    "- In the blank code cell below run spacy on the texts of one of the novels by of your chosen author.\n",
    "\n",
    "Later you will be exploring a collection of novels, but for now, it is sufficient to work with a single novel."
   ]
  },
  {
   "cell_type": "code",
   "execution_count": null,
   "metadata": {},
   "outputs": [],
   "source": []
  },
  {
   "cell_type": "code",
   "execution_count": null,
   "metadata": {},
   "outputs": [],
   "source": [
    "parsed_Middlemarch = nlp(works[3][\"text\"])"
   ]
  },
  {
   "cell_type": "markdown",
   "metadata": {},
   "source": [
    "### Exercise\n",
    "\n",
    "In the blank cell below, define a function `get_entities_in(parsed_novel,entity_type)` that takes two inputs:\n",
    "- `parsed_novel` is the result of running spaCy on the raw text of some novel\n",
    "- `entity_type` is one of the spaCy entity types, e.g. \"PERSON\"\n",
    "\n",
    "The output should be a list of the text for each entity appearing in `parsed_novel` that is of type `entity_type`\n",
    "\n",
    "spaCy can sometimes return entities with an empty text representation, and you don't want to include these in the output.\n",
    "\n",
    "It is helpful to normalise the text as follows:\n",
    "- convert the text for each entity to lower case using `lower()`\n",
    "- remove any surrounding white space, using `strip()`\n",
    "\n",
    "Run your function on your parsed novel and look at the first 10 characters."
   ]
  },
  {
   "cell_type": "code",
   "execution_count": null,
   "metadata": {},
   "outputs": [],
   "source": []
  },
  {
   "cell_type": "code",
   "execution_count": null,
   "metadata": {},
   "outputs": [],
   "source": [
    "# %load solutions/get_entities_in"
   ]
  },
  {
   "cell_type": "markdown",
   "metadata": {},
   "source": [
    "### Getting the main characters from a novel\n",
    "\n",
    "Your next talks is to define a function `get_main_characters(parsed_novel,num_charachters)` that takes two inputs:\n",
    "- `parsed_novel` is the result of running spaCy on the raw text of some novel\n",
    "- `num_charachters` is a positive whole number, specifying how many of the main characters should be returned\n",
    "\n",
    "The output will be a list of the `num_characters` most frequently occurring `\"PERSON\"` entities in `parsed_novel`.\n",
    "\n",
    "### Exercise\n",
    "In the blank cell below, implement `get_main_characters`.\n",
    "- This function should make use of the `get_entities` function you have just defined\n",
    "- You can use `Counter` to produce a counter from a list of elements - try `Counter([\"a\",\"b\",\"a\",\"c\",\"b\"])`\n",
    "- Once you have a `Counter` you can use `Counter`'s `most_common` method to find the most comment characters"
   ]
  },
  {
   "cell_type": "code",
   "execution_count": null,
   "metadata": {},
   "outputs": [],
   "source": []
  },
  {
   "cell_type": "code",
   "execution_count": null,
   "metadata": {},
   "outputs": [],
   "source": [
    "# %load solutions/get_main_characters"
   ]
  },
  {
   "cell_type": "markdown",
   "metadata": {},
   "source": [
    "### Extracting Feature Sets for Characters\n",
    "\n",
    "We now turn to the issue of extracting feature sets for characters or sets of characters.\n",
    "\n",
    "As explained above, we will store each` feature sets as a `Counter`"
   ]
  },
  {
   "cell_type": "markdown",
   "metadata": {},
   "source": [
    "### Exercise\n",
    "- Examine the following code cell and see if you can work out what it is doing.\n",
    "- Edit the code so that the novel you are working with is being used\n",
    "- Run the cell and look at the output to establish if your understanding is correct."
   ]
  },
  {
   "cell_type": "code",
   "execution_count": null,
   "metadata": {},
   "outputs": [],
   "source": [
    "def get_interesting_contexts(novels,num_characters):\n",
    "    \n",
    "    def of_interest(ent,main_characters):\n",
    "        return (ent.text.strip().lower() in main_characters \n",
    "                and ent.label_ == 'PERSON' \n",
    "                and ent.root.head.pos_ == 'VERB')  \n",
    "\n",
    "    contexts = defaultdict(Counter)    \n",
    "    for parsed_novel in novels:\n",
    "        main_characters = get_main_characters(parsed_novel,num_characters)\n",
    "        for ent in parsed_novel.ents:\n",
    "            if of_interest(ent,main_characters):\n",
    "                contexts[ent.text.strip().lower()][ent.root.head.lemma_] += 1\n",
    "    return contexts\n",
    "\n",
    "novels = {<PARSED_NOVEL>} #  use a set here to allow for the possibility of having multiple texts\n",
    "number_of_characters_per_text = 8\n",
    "target_contexts = get_interesting_contexts(novels,number_of_characters_per_text)\n",
    "display(pd.DataFrame.from_dict(target_contexts).applymap(lambda x: '' if math.isnan(x) else x))\n"
   ]
  },
  {
   "cell_type": "markdown",
   "metadata": {},
   "source": [
    "### Exercise\n",
    "Make a copy of the code cell above and adapt the code so that it only counts situations where the person is the subject of the verb, i.e. in an `nsubj` relation. This identifies the things that the person does. \n",
    " \n",
    "- write your code so that it is possible to specify any set of relations of interest, e.g. both `nsubj` and `dobj`\n",
    "- run versions of your code for both `nsubj` and `dobj`, the latter revealing things that are done to the person."
   ]
  },
  {
   "cell_type": "code",
   "execution_count": null,
   "metadata": {},
   "outputs": [],
   "source": [
    "# %load solutions/verb_contexts"
   ]
  },
  {
   "cell_type": "markdown",
   "metadata": {},
   "source": [
    "### Exercise\n",
    "Refine your solution futher by removing the most commonly occurring verbs.\n",
    "Adapt a copy of the code that you have created when solving the previous exercise so that contexts involving the most  common verbs are not displayed. \n",
    "\n",
    "Hint: use a `Counter` to determine the count of each verb in a set of novels, and then use `most_common(n)` to find the most common n verbs.\n",
    "\n"
   ]
  },
  {
   "cell_type": "markdown",
   "metadata": {},
   "source": [
    "### Exercise\n",
    "Spend some time further refining your solution. Your goal shoudl be to indentify other aspects of the context where a character is mentioned that you think will help to provide a richer characterisation of the way that a character is being portrayed by the author."
   ]
  },
  {
   "cell_type": "markdown",
   "metadata": {},
   "source": [
    "### Aggregating feature sets\n",
    "\n",
    "Once you are satisifed with the feature sets that you are able to build for a character, you are ready to undertake your analysis of the way characters are being portrayed based on gender.\n",
    "\n",
    "- Select a set of novels\n",
    "- Parse each of the novels with spaCy (this might take a while)\n",
    "- Determine the settings of any parameters that are needed by the code you have written to produce the character feature sets, e.g.\n",
    " - the number characters to consider in each novel\n",
    " - the number of most common verbs to disregard\n",
    "- Run your code that builds feature sets for characters over all of the novels under consideration\n",
    "- Build two aggregated feature sets, one for all female characters and one for all male characters\n",
    "\n",
    "In the next cell, we look at how to measure the difference between these two aggregated feature sets and how to assess whether the different you find is significant."
   ]
  },
  {
   "cell_type": "markdown",
   "metadata": {},
   "source": [
    "### Measuring the similarity of two feature sets\n",
    "\n",
    "The code cell below shows how to compare the similarity of two feature sets. This is now explained.\n",
    "\n",
    "- We are given two feature sets: `A` and `B`.\n",
    "- Initially, each feature set is represented as a `Counter` which is a dictionary where the keys are the features and each feature (key) is mapped to a positive number which corresponds to the strength (weight) of that feature. \n",
    " - feature set `A` has features `'a', 'b' and 'c'` with weights `1, 2 and 3`, respectively.\n",
    " - feature set `B` has features `'b', 'c', 'd' and 'e'` with weights `3, 4, 5 and 6`, respectively.\n",
    "- Note that they share some, but not all of their features.\n",
    "- Our goal is to represent both feature sets as lists in such a way that each position in a lists is consistently used for a particular feature\n",
    "- For example, we could use a list with 5 positions, where the weight of feature `'a'` is held in the first position, the weight of feature `'b'` is held in the second position, and so on. \n",
    " - with this scheme the feature list for `A` would be the list: `[1,2,3,0,0]`, and the feature list for `B` would be `[0,3,4,5,6]`.\n",
    "- The function `counters_to_feature_lists` takes two feature sets each of which is a `Counter` and returns two lists, one for each of the inputs, where both lists use the same feature representation.\n",
    "- In the first line of the function, the counters are added together. This is done because the keys of resulting counter (which is named `combined`) can be used to produce consistent mappings of the counters to lists - see lines 2 and 3.\n",
    "- Once consistent list representations are produced for the two feature sets, we can use the `cosine_similarity` function from `sklearn` as as a measure of how similar the lists are, and therefore, how similar the feature sets are.\n",
    "- `cosine_similarity` returns a real number between 0 and 1, with 1 indicating that the inputs are identical, and 0 indicating that the two inputs are completely different.\n"
   ]
  },
  {
   "cell_type": "code",
   "execution_count": null,
   "metadata": {},
   "outputs": [],
   "source": [
    "from sklearn.metrics.pairwise import cosine_similarity\n",
    "\n",
    "A = Counter({'a':1, 'b':2, 'c':3})\n",
    "B = Counter({'b':3, 'c':4, 'd':5, 'e':6})\n",
    "\n",
    "def counters_to_feature_lists(counter1,counter2):\n",
    "    combined = counter1 + counter2 \n",
    "    list1 = [counter1[key] for key in combined]\n",
    "    list2 = [counter2[key] for key in combined]\n",
    "    return list1,list2\n",
    "\n",
    "L1,L2 = counters_to_feature_lists(A,B)\n",
    "print(L1)\n",
    "print(L2)\n",
    "cosine_similarity([L1], [L2])[0,0]\n"
   ]
  },
  {
   "cell_type": "markdown",
   "metadata": {},
   "source": [
    "### When is a difference a significant difference?\n",
    "\n",
    "The male and female feature sets that you have produced will not be identical, so will have a cosine similarity of less than one.\n",
    "\n",
    "In order to assess whether there is strong evidence that males and females are portrayed differently in the novels you have chosen, you need to compare this cosine similarity with random non-gender based splits of the characters.\n",
    "\n",
    "In order to do this, create a random gender classifier and undertake the same analysis with this as above to produce a cosine similarity. By repeating this process several times you will get a sense of how much variation in cosine similiarity is found when doing this.\n",
    "\n",
    "Another consideration that should be considered is that low cosine similarity values might result from a large difference in the number of male and female characters. To check this, repeat the above process,  making sure that you use feature sets from exactly the same number of male and female characters."
   ]
  },
  {
   "cell_type": "markdown",
   "metadata": {},
   "source": [
    "### Extracting Gendered Pronouns \n",
    "\n",
    "Since we are interested in quantifying the extent to which authors exhibit gender-based distinctions in the way they in the way that they portray their main characters, it would be useful to base this not only on the contexts of places where a character is mentioned by name, but also when a character is mentioned with a pronoun. The pronouns \"he\", \"she\", \"his\" and \"her\" indicate the gender of the person being referred to, so provide a reliable source of additional data.\n",
    "\n",
    "The following code cell shows how these pronouns can be extracted from a text using the `noun_chunks` property of a parsed document."
   ]
  },
  {
   "cell_type": "code",
   "execution_count": null,
   "metadata": {},
   "outputs": [],
   "source": [
    "def gendered_pronoun(np):\n",
    "    return np.text.strip() in [\"he\", \"she\", \"her\", \"his\"]\n",
    "\n",
    "text = parsed_emma\n",
    "nounphrases = [[re.sub(\"\\s+\",\" \",np.text), np.root.head.text] for np in parsed_emma.noun_chunks if gendered_pronoun(np)]\n",
    "print(\"There were {} noun phrases found.\".format(len(nounphrases)))\n",
    "display(pd.DataFrame(nounphrases))"
   ]
  },
  {
   "cell_type": "code",
   "execution_count": null,
   "metadata": {},
   "outputs": [],
   "source": []
  }
 ],
 "metadata": {
  "kernelspec": {
   "display_name": "Python 3",
   "language": "python",
   "name": "python3"
  },
  "language_info": {
   "codemirror_mode": {
    "name": "ipython",
    "version": 3
   },
   "file_extension": ".py",
   "mimetype": "text/x-python",
   "name": "python",
   "nbconvert_exporter": "python",
   "pygments_lexer": "ipython3",
   "version": "3.6.3"
  }
 },
 "nbformat": 4,
 "nbformat_minor": 2
}
